{
 "cells": [
  {
   "cell_type": "markdown",
   "id": "b796b67b",
   "metadata": {},
   "source": [
    "# Variational Autoencoder with MSE as Reconstruction Loss Term\n",
    "\n",
    "The motivating principle behind this experiment is that, while mathematically rigorous, the reconstruction likelihood loss function might be overly complex for the actual performance of VAE's for certain tasks. The true power of VAE's is their power to drive meaningful latent spaces by spreading the values out for a given input and in that way, the spaces in between each memorized point will be meaningful. \n",
    "\n",
    "This experiment hypothesizes that the VAE will perform better with a good ole fashioned MSE loss function as a reconstruction term so long as we keep the KL Divergence to drive the distribution of the latent layer to a standard normal. \n",
    "\n",
    "\n",
    "## Input info "
   ]
  },
  {
   "cell_type": "code",
   "execution_count": 33,
   "id": "979204e1",
   "metadata": {},
   "outputs": [
    {
     "name": "stderr",
     "output_type": "stream",
     "text": [
      "C:\\Users\\leuch\\AppData\\Local\\Temp\\ipykernel_9064\\2468113692.py:6: ParserWarning: Falling back to the 'python' engine because the 'c' engine does not support sep=None with delim_whitespace=False; you can avoid this warning by specifying engine='python'.\n",
      "  raw_data = pd.read_csv(\"./data/Movielens100/u.data\", sep = None, names=[\"userId\", \"movieId\", \"rating\", \"timestamp\"])\n"
     ]
    },
    {
     "data": {
      "text/plain": [
       "array([[2., 0., 0., ..., 0., 0., 0.],\n",
       "       [0., 0., 0., ..., 0., 0., 0.],\n",
       "       [0., 0., 0., ..., 0., 0., 0.],\n",
       "       ...,\n",
       "       [0., 0., 0., ..., 0., 0., 0.],\n",
       "       [0., 0., 0., ..., 0., 0., 0.],\n",
       "       [0., 0., 0., ..., 0., 0., 0.]])"
      ]
     },
     "execution_count": 33,
     "metadata": {},
     "output_type": "execute_result"
    }
   ],
   "source": [
    "import pandas as pd\n",
    "import numpy as np\n",
    "import os\n",
    "os.environ['KMP_DUPLICATE_LIB_OK']='True'\n",
    "\n",
    "raw_data = pd.read_csv(\"./data/Movielens100/u.data\", sep = None, names=[\"userId\", \"movieId\", \"rating\", \"timestamp\"])\n",
    "raw_data = raw_data.loc[:, raw_data.columns != \"timestamp\"]\n",
    "#make indices start at 0\n",
    "raw_data[\"userId\"] -= 1\n",
    "raw_data[\"movieId\"] -= 1\n",
    "#make ratings center around 0\n",
    "raw_data[\"rating\"] -= 3\n",
    "\n",
    "# create (943, 1682) matrix of user ratings per movie\n",
    "user_ratings = pd.DataFrame(np.zeros((943,1682)))\n",
    "for i in raw_data.index:\n",
    "    user_ratings[raw_data[\"movieId\"][i]][raw_data[\"userId\"][i]] = raw_data[\"rating\"][i]\n",
    "user_ratings = user_ratings.to_numpy() \n",
    "np.random.shuffle(user_ratings)\n",
    "user_ratings"
   ]
  },
  {
   "cell_type": "markdown",
   "id": "a85f19ae",
   "metadata": {},
   "source": [
    "## Begin model and tuning of Hyperparameters"
   ]
  },
  {
   "cell_type": "code",
   "execution_count": 34,
   "id": "4eb094d8",
   "metadata": {},
   "outputs": [],
   "source": [
    "from torch.utils.data import Dataset, DataLoader\n",
    "from torch import nn \n",
    "import torch\n",
    "from sklearn.metrics import precision_recall_fscore_support\n",
    "device = \"cuda\"\n",
    "\n",
    "class MovielensDataset(Dataset):\n",
    "    def __init__(self, data, mask_magnitude):\n",
    "        self.data = data\n",
    "        # create a mask of 0 and 1 values where half are 0 and half are 1. \n",
    "        #The ratio of masked values is something that can and should be optimized. \n",
    "        self.random_mask = np.clip((np.random.randn(1682) + mask_magnitude).round(), a_max = 1, a_min = 0)\n",
    "        \n",
    "    def __len__(self):\n",
    "        return len(self.data)\n",
    "\n",
    "    def __getitem__(self, idx):\n",
    "        np.random.shuffle(self.random_mask)\n",
    "        return self.data[idx] * self.random_mask, self.data[idx]\n",
    "\n",
    "\n",
    "class VariationalAutoEncoder(nn.Module):\n",
    "    def __init__(self, dropout_rate):\n",
    "        super().__init__()\n",
    "        self.encoder = nn.Sequential(\n",
    "            #Encoder\n",
    "            nn.Linear(1682, 1024),\n",
    "            nn.LeakyReLU(),\n",
    "            nn.Dropout(dropout_rate),\n",
    "            nn.Linear(1024,1024),\n",
    "            nn.LeakyReLU(),\n",
    "            nn.Dropout(dropout_rate),\n",
    "        )\n",
    "        self.decoder = nn.Sequential(\n",
    "            #Decoder\n",
    "            nn.Linear(512,1024),\n",
    "            nn.LeakyReLU(),\n",
    "            nn.Dropout(dropout_rate),\n",
    "            nn.Linear(1024,1682),\n",
    "            nn.Tanh()\n",
    "        )\n",
    "        # distribution parameters\n",
    "        self.fc_mu = nn.Linear(1024, 512)\n",
    "        self.fc_var = nn.Linear(1024, 512)\n",
    "        self.log_scale = nn.Parameter(torch.Tensor([0.0]))\n",
    "        #for evaluation purposes\n",
    "        self.test_mse = 1000\n",
    "        \n",
    "    def gaussian_likelihood(self, x_hat, logscale, x):\n",
    "        scale = torch.exp(logscale)\n",
    "        mean = x_hat\n",
    "        dist = torch.distributions.Normal(mean, scale)\n",
    "\n",
    "        # measure prob of seeing data under p(x|z)\n",
    "        log_pxz = dist.log_prob(x)\n",
    "        return log_pxz.sum(dim=1)\n",
    "    \n",
    "    def kl_divergence(self, z, mu, std):\n",
    "        # --------------------------\n",
    "        # Monte carlo KL divergence\n",
    "        # --------------------------\n",
    "        # 1. define the first two probabilities (in this case Normal for both)\n",
    "        p = torch.distributions.Normal(torch.zeros_like(mu), torch.ones_like(std))\n",
    "        q = torch.distributions.Normal(mu, std)\n",
    "\n",
    "        # 2. get the probabilities from the equation\n",
    "        log_qzx = q.log_prob(z)\n",
    "        log_pz = p.log_prob(z)\n",
    "\n",
    "        # kl\n",
    "        kl = (log_qzx - log_pz)\n",
    "        kl = kl.sum(-1)\n",
    "        return kl\n",
    "    \n",
    "    def forward(self, x):\n",
    "        # encode x to get the mu and variance parameters\n",
    "        x_encoded = self.encoder(x)\n",
    "        mu, log_var = self.fc_mu(x_encoded), self.fc_var(x_encoded)\n",
    "\n",
    "        # sample z from q\n",
    "        std = torch.exp(log_var / 2)\n",
    "        \n",
    "        #perform the kernel trick to allow for backprop through sampling\n",
    "        \n",
    "        epsilon = torch.distributions.Normal(0, 1).rsample()\n",
    "        z = mu + epsilon * std\n",
    "        # decoded\n",
    "        ratings = self.decoder(z) * 2\n",
    "        return ratings, z, mu, std\n",
    "    \n",
    "    def vae_loss(self, x_hat, x, z, mu, std):\n",
    "        # reconstruction loss. This is now MSE instead of gaussian likelihood\n",
    "        indies = x.nonzero().split(1, dim=1)\n",
    "        \n",
    "        recon_loss = (x_hat * x).sum() /10\n",
    "        #recon_loss = mse_loss_fcn(x_hat, x) * 10000#self.gaussian_likelihood(x_hat, self.log_scale, x)\n",
    "        # kl\n",
    "        kl = self.kl_divergence(z, mu, std)\n",
    "        # elbo\n",
    "        elbo = (kl - recon_loss).mean()\n",
    "\n",
    "        return elbo\n",
    "\n",
    "def train(dataloader, model,  optimizer, epoch):\n",
    "    size = len(dataloader.dataset)\n",
    "    model.train()\n",
    "    for batch, (X,y) in enumerate(dataloader):\n",
    "        X, y = X.to(device).to(torch.float32), y.to(device).to(torch.float32)\n",
    "        \n",
    "        #compute prediction error\n",
    "        pred, z, mu, std = model(X)\n",
    "        loss = model.vae_loss(pred, y, z, mu, std)\n",
    "        mse_loss = mse_loss_fcn(pred, y)\n",
    "        \n",
    "        #Backpropagation\n",
    "        optimizer.zero_grad()\n",
    "        loss.backward()\n",
    "        optimizer.step()\n",
    "        \n",
    "        if epoch % 100 == 0 and batch % 64 == 0:\n",
    "            loss , current = loss.item(), (batch+1) * len(X)\n",
    "            print(\"Epoch : \" + str(epoch))\n",
    "            print(f\"loss: {loss:>7f}\")\n",
    "            print(f\"MSE loss: {mse_loss:>7f}\")\n",
    "            losses.append(loss)\n",
    "            mse_losses.append(mse_loss.item())\n",
    "\n",
    "def test(dataloader, model, epoch):\n",
    "    size = len(dataloader.dataset)\n",
    "    num_batches= len(dataloader)\n",
    "    model.eval()\n",
    "    test_loss, correct, test_mse_loss = 0,0,0\n",
    "    with torch.no_grad():\n",
    "        for X, y in dataloader:\n",
    "            X, y = X.to(device).to(torch.float32), y.to(device).to(torch.float32)\n",
    "            \n",
    "            \n",
    "            pred, z, mu, std = model(X)\n",
    "            test_loss += model.vae_loss(pred, y, z, mu, std).item()\n",
    "            test_mse_loss += mse_loss_fcn(pred, y)\n",
    "    test_loss /= num_batches\n",
    "    test_mse_loss /= num_batches\n",
    "    if epoch % 100 ==0:\n",
    "        test_losses.append(test_loss)\n",
    "        #Come back and actually do the accuracy where it sees if it's at least on the right side of it or compute precision/recall or something like that\n",
    "        print(f\"Test Error: \\n Avg Loss : {test_loss:>8f} \")\n",
    "        print(f\" Test MSE loss: {test_mse_loss:>7f}\")\n",
    "        test_mse_losses.append(test_mse_loss.item())\n",
    "        model.test_mse = test_mse_loss.item()\n",
    "        \n",
    "        \n",
    "        "
   ]
  },
  {
   "cell_type": "markdown",
   "id": "8bf99dfa",
   "metadata": {},
   "source": [
    "## The actual search \n",
    "The following contains all of the logic you need to do to restart everything over so long as you've already loaded the ones above"
   ]
  },
  {
   "cell_type": "code",
   "execution_count": 28,
   "id": "cec19ee9",
   "metadata": {},
   "outputs": [
    {
     "name": "stdout",
     "output_type": "stream",
     "text": [
      "using hyperparameters : 0 , 0\n",
      "Epoch : 0\n",
      "loss: -3.598530\n",
      "MSE loss: 0.465652\n",
      "Test Error: \n",
      " Avg Loss : -668.407471 \n",
      " Test MSE loss: 1.193880\n",
      "New best using hyper parameters : 1.3 ,0 ,0\n",
      "Epoch : 100\n",
      "loss: -1118.517334\n",
      "MSE loss: 3.298848\n",
      "Test Error: \n",
      " Avg Loss : -1533.313721 \n",
      " Test MSE loss: 3.436263\n",
      "Epoch : 200\n",
      "loss: -1002.020630\n",
      "MSE loss: 3.543396\n",
      "Test Error: \n",
      " Avg Loss : -1570.069824 \n",
      " Test MSE loss: 3.461957\n",
      "Epoch : 300\n",
      "loss: -925.441101\n",
      "MSE loss: 3.425423\n",
      "Test Error: \n",
      " Avg Loss : -1555.445312 \n",
      " Test MSE loss: 3.493355\n",
      "Epoch : 400\n",
      "loss: -1107.899170\n",
      "MSE loss: 3.507776\n",
      "Test Error: \n",
      " Avg Loss : -1552.439453 \n",
      " Test MSE loss: 3.404649\n",
      "Epoch : 500\n",
      "loss: -928.997314\n",
      "MSE loss: 3.520913\n",
      "Test Error: \n",
      " Avg Loss : -1583.646729 \n",
      " Test MSE loss: 3.387106\n",
      "Epoch : 600\n",
      "loss: -1049.870361\n",
      "MSE loss: 3.517392\n",
      "Test Error: \n",
      " Avg Loss : -1582.577148 \n",
      " Test MSE loss: 3.387108\n",
      "Epoch : 700\n",
      "loss: -1003.708923\n",
      "MSE loss: 3.557987\n",
      "Test Error: \n",
      " Avg Loss : -1587.404663 \n",
      " Test MSE loss: 3.426659\n",
      "Epoch : 800\n",
      "loss: -1395.929810\n",
      "MSE loss: 3.546346\n",
      "Test Error: \n",
      " Avg Loss : -1590.278564 \n",
      " Test MSE loss: 3.496910\n",
      "Epoch : 900\n",
      "loss: -1196.052002\n",
      "MSE loss: 3.564110\n",
      "Test Error: \n",
      " Avg Loss : -1588.958374 \n",
      " Test MSE loss: 3.467440\n",
      "Epoch : 1000\n",
      "loss: -1123.834473\n",
      "MSE loss: 3.541070\n",
      "Test Error: \n",
      " Avg Loss : -1583.101807 \n",
      " Test MSE loss: 3.436834\n",
      "Epoch : 1100\n",
      "loss: -1110.627441\n",
      "MSE loss: 3.525256\n",
      "Test Error: \n",
      " Avg Loss : -1579.983032 \n",
      " Test MSE loss: 3.425714\n",
      "Epoch : 1200\n",
      "loss: -1195.299561\n",
      "MSE loss: 3.568200\n",
      "Test Error: \n",
      " Avg Loss : -1591.523682 \n",
      " Test MSE loss: 3.460987\n",
      "Epoch : 1300\n",
      "loss: -1134.228638\n",
      "MSE loss: 3.527639\n",
      "Test Error: \n",
      " Avg Loss : -1590.804321 \n",
      " Test MSE loss: 3.444913\n",
      "Epoch : 1400\n",
      "loss: -1384.404053\n",
      "MSE loss: 3.563770\n",
      "Test Error: \n",
      " Avg Loss : -1592.177734 \n",
      " Test MSE loss: 3.483138\n",
      "Epoch : 1500\n",
      "loss: -1277.291504\n",
      "MSE loss: 3.554848\n",
      "Test Error: \n",
      " Avg Loss : -1578.359985 \n",
      " Test MSE loss: 3.484734\n",
      "Epoch : 1600\n",
      "loss: -1428.075928\n",
      "MSE loss: 3.532937\n",
      "Test Error: \n",
      " Avg Loss : -1571.289673 \n",
      " Test MSE loss: 3.496294\n",
      "Epoch : 1700\n",
      "loss: -1218.214111\n",
      "MSE loss: 3.591721\n",
      "Test Error: \n",
      " Avg Loss : -1587.560547 \n",
      " Test MSE loss: 3.516463\n",
      "Epoch : 1800\n",
      "loss: -946.105225\n",
      "MSE loss: 3.637010\n",
      "Test Error: \n",
      " Avg Loss : -1597.084839 \n",
      " Test MSE loss: 3.581057\n",
      "Epoch : 1900\n",
      "loss: -1253.615723\n",
      "MSE loss: 3.567072\n",
      "Test Error: \n",
      " Avg Loss : -1592.498535 \n",
      " Test MSE loss: 3.505138\n"
     ]
    }
   ],
   "source": [
    "epochs = 2000\n",
    "lowest_test_mse_score = 1000\n",
    "mask_magnitude = 1.3\n",
    "#Search \n",
    "l2_weight = 0\n",
    "dropout_rate = 0\n",
    "random_mask = np.clip((np.random.randn(1682) + mask_magnitude).round(), a_max = 1, a_min = 0)\n",
    "print(\"using hyperparameters : \" + str( l2_weight) + \" , \" + str(dropout_rate))\n",
    "train_dataset = MovielensDataset(user_ratings[:843], mask_magnitude)\n",
    "test_dataset = MovielensDataset(user_ratings[843:], mask_magnitude)\n",
    "train_dataloader = DataLoader(train_dataset, batch_size=64, shuffle=True)\n",
    "test_dataloader = DataLoader(test_dataset, batch_size=100, shuffle=True)\n",
    "\n",
    "\n",
    "losses = []\n",
    "mse_losses = []    \n",
    "test_losses = []\n",
    "test_mse_losses = []\n",
    "\n",
    "model = VariationalAutoEncoder(dropout_rate = dropout_rate).to(device)\n",
    "optimizer = torch.optim.Adam(model.parameters(), lr = 1e-4, weight_decay = l2_weight)\n",
    "mse_loss_fcn = nn.MSELoss()\n",
    "\n",
    "for t in range(epochs):\n",
    "    train(train_dataloader, model,  optimizer, t)\n",
    "    test(test_dataloader, model, t )\n",
    "    if t % 100 == 0:\n",
    "        if model.test_mse < lowest_test_mse_score:\n",
    "            lowest_test_mse_score = model.test_mse\n",
    "            torch.save(model.state_dict(), \"./models/best.pth\")\n",
    "            print(\"New best using hyper parameters : \" + str(mask_magnitude) + \" ,\" + str(l2_weight) + \" ,\" + str(dropout_rate)  )"
   ]
  },
  {
   "cell_type": "code",
   "execution_count": 16,
   "id": "ff8e3ef2",
   "metadata": {},
   "outputs": [
    {
     "data": {
      "text/plain": [
       "[<matplotlib.lines.Line2D at 0x1f13c9ccb50>]"
      ]
     },
     "execution_count": 16,
     "metadata": {},
     "output_type": "execute_result"
    },
    {
     "data": {
      "image/png": "[encoded data removed]",
      "text/plain": [
       "<Figure size 640x480 with 1 Axes>"
      ]
     },
     "metadata": {},
     "output_type": "display_data"
    }
   ],
   "source": [
    "import matplotlib.pyplot as plt\n",
    "plt.plot(np.arange(len(losses)) * 100, losses)\n",
    "plt.plot(np.arange(len(test_losses)) * 100, test_losses)"
   ]
  },
  {
   "cell_type": "code",
   "execution_count": 15,
   "id": "f7e2b244",
   "metadata": {},
   "outputs": [
    {
     "data": {
      "text/plain": [
       "[<matplotlib.lines.Line2D at 0x1f13c957700>]"
      ]
     },
     "execution_count": 15,
     "metadata": {},
     "output_type": "execute_result"
    },
    {
     "data": {
      "image/png": "[encoded data removed]",
      "text/plain": [
       "<Figure size 640x480 with 1 Axes>"
      ]
     },
     "metadata": {},
     "output_type": "display_data"
    }
   ],
   "source": [
    "plt.plot(np.arange(len(mse_losses)) * 100, np.sqrt(np.array(mse_losses)))\n",
    "plt.plot(np.arange(len(test_mse_losses)) * 100, np.sqrt(np.array(test_mse_losses)))"
   ]
  },
  {
   "cell_type": "code",
   "execution_count": 29,
   "id": "9921cf2f",
   "metadata": {},
   "outputs": [
    {
     "data": {
      "text/plain": [
       "VariationalAutoEncoder(\n",
       "  (encoder): Sequential(\n",
       "    (0): Linear(in_features=1682, out_features=1024, bias=True)\n",
       "    (1): LeakyReLU(negative_slope=0.01)\n",
       "    (2): Dropout(p=0, inplace=False)\n",
       "    (3): Linear(in_features=1024, out_features=1024, bias=True)\n",
       "    (4): LeakyReLU(negative_slope=0.01)\n",
       "    (5): Dropout(p=0, inplace=False)\n",
       "  )\n",
       "  (decoder): Sequential(\n",
       "    (0): Linear(in_features=512, out_features=1024, bias=True)\n",
       "    (1): LeakyReLU(negative_slope=0.01)\n",
       "    (2): Dropout(p=0, inplace=False)\n",
       "    (3): Linear(in_features=1024, out_features=1682, bias=True)\n",
       "    (4): Tanh()\n",
       "  )\n",
       "  (fc_mu): Linear(in_features=1024, out_features=512, bias=True)\n",
       "  (fc_var): Linear(in_features=1024, out_features=512, bias=True)\n",
       ")"
      ]
     },
     "execution_count": 29,
     "metadata": {},
     "output_type": "execute_result"
    }
   ],
   "source": [
    "model = VariationalAutoEncoder(dropout_rate = 0).to(device)\n",
    "model.load_state_dict(torch.load(\"./models/best.pth\"))\n",
    "model.eval()\n"
   ]
  },
  {
   "cell_type": "code",
   "execution_count": 49,
   "id": "bbe48a7b",
   "metadata": {},
   "outputs": [
    {
     "data": {
      "text/plain": [
       "(0.08683574879227053, 0.34341665339914024, 0.138620224285852, None)"
      ]
     },
     "execution_count": 49,
     "metadata": {},
     "output_type": "execute_result"
    }
   ],
   "source": [
    "relevance_labels = user_ratings[843:] > 0.5\n",
    "#To evaluate for comparison to other papers we mask by setting 20% of labels to false \n",
    "test_inputs = np.clip((np.random.randn(1682) + 1.35).round(), a_max = 1, a_min = 0) * user_ratings[843:]\n",
    "test_preds = model(torch.tensor(test_inputs).to(\"cuda\").to(torch.float32))[0] > 0.4\n",
    "\n",
    "precision_recall_fscore_support(relevance_labels.flatten(), test_preds.cpu().flatten(), average=\"binary\")"
   ]
  },
  {
   "cell_type": "markdown",
   "id": "648bdefd",
   "metadata": {},
   "source": [
    "## Conclusion:\n",
    "The result is that I was, in fact, mistaken and that the MSE was less suited to the task than the usual Gaussian Likelihood"
   ]
  },
  {
   "cell_type": "code",
   "execution_count": 68,
   "id": "22542451",
   "metadata": {},
   "outputs": [
    {
     "data": {
      "text/plain": [
       "(array([    0.,     0.,     0., 52733., 17391., 23093., 74710.,   173.,\n",
       "          100.,     0.]),\n",
       " array([-2.1, -1.9, -1.1, -0.9, -0.1,  0. ,  0.1,  0.9,  1.1,  1.9,  2.1]),\n",
       " <BarContainer object of 10 artists>)"
      ]
     },
     "execution_count": 68,
     "metadata": {},
     "output_type": "execute_result"
    },
    {
     "data": {
      "image/png": "[encoded data removed]",
      "text/plain": [
       "<Figure size 640x480 with 1 Axes>"
      ]
     },
     "metadata": {},
     "output_type": "display_data"
    }
   ],
   "source": [
    "import matplotlib.pyplot as plt\n",
    "plt.hist(model(torch.tensor(test_inputs).to(\"cuda\").to(torch.float32))[0].cpu().detach().numpy().flatten(), bins = [-2.1, -1.9, -1.1, -0.9, -.1, 0, .1, .9, 1.1, 1.9, 2.1] )"
   ]
  },
  {
   "cell_type": "code",
   "execution_count": 102,
   "id": "7e7aa2d8",
   "metadata": {},
   "outputs": [
    {
     "data": {
      "text/plain": [
       "tensor(0.8346, device='cuda:0', grad_fn=<MaxBackward1>)"
      ]
     },
     "execution_count": 102,
     "metadata": {},
     "output_type": "execute_result"
    }
   ],
   "source": [
    "model(torch.tensor(test_inputs).to(\"cuda\").to(torch.float32))[0].max()"
   ]
  },
  {
   "cell_type": "code",
   "execution_count": 67,
   "id": "7d5e9fd3",
   "metadata": {},
   "outputs": [
    {
     "data": {
      "text/plain": [
       "(array([   547.,      0.,   1008.,      0.,      0., 161642.,      0.,\n",
       "          3143.,      0.,   1860.]),\n",
       " array([-2.1, -1.9, -1.1, -0.9, -0.1,  0. ,  0.1,  0.9,  1.1,  1.9,  2.1]),\n",
       " <BarContainer object of 10 artists>)"
      ]
     },
     "execution_count": 67,
     "metadata": {},
     "output_type": "execute_result"
    },
    {
     "data": {
      "image/png": "[encoded data removed]",
      "text/plain": [
       "<Figure size 640x480 with 1 Axes>"
      ]
     },
     "metadata": {},
     "output_type": "display_data"
    }
   ],
   "source": [
    "plt.hist(test_inputs.flatten(), bins = [-2.1, -1.9, -1.1, -0.9, -.1, 0, .1, .9, 1.1, 1.9, 2.1])"
   ]
  },
  {
   "cell_type": "code",
   "execution_count": 59,
   "id": "5e5ff006",
   "metadata": {},
   "outputs": [
    {
     "data": {
      "text/plain": [
       "(array([1., 1., 1., 1., 1., 1., 1., 1., 1., 1.]),\n",
       " array([0. , 0.9, 1.8, 2.7, 3.6, 4.5, 5.4, 6.3, 7.2, 8.1, 9. ]),\n",
       " <BarContainer object of 10 artists>)"
      ]
     },
     "execution_count": 59,
     "metadata": {},
     "output_type": "execute_result"
    },
    {
     "data": {
      "image/png": "[encoded data removed]",
      "text/plain": [
       "<Figure size 640x480 with 1 Axes>"
      ]
     },
     "metadata": {},
     "output_type": "display_data"
    }
   ],
   "source": [
    "plt.hist(np.arange(10), bins=10)"
   ]
  },
  {
   "cell_type": "code",
   "execution_count": 2,
   "id": "f617182f",
   "metadata": {},
   "outputs": [],
   "source": [
    "from VAEMSE import VAEMSE\n",
    "\n",
    "model = VAEMSE(dropout_rate = 0).to(\"cpu\")"
   ]
  },
  {
   "cell_type": "code",
   "execution_count": null,
   "id": "2bbd79c9",
   "metadata": {},
   "outputs": [],
   "source": []
  }
 ],
 "metadata": {
  "kernelspec": {
   "display_name": "Python 3 (ipykernel)",
   "language": "python",
   "name": "python3"
  },
  "language_info": {
   "codemirror_mode": {
    "name": "ipython",
    "version": 3
   },
   "file_extension": ".py",
   "mimetype": "text/x-python",
   "name": "python",
   "nbconvert_exporter": "python",
   "pygments_lexer": "ipython3",
   "version": "3.9.7"
  }
 },
 "nbformat": 4,
 "nbformat_minor": 5
}
