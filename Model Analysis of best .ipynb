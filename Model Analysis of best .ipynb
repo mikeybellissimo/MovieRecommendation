{
 "cells": [
  {
   "cell_type": "markdown",
   "id": "5f186878",
   "metadata": {},
   "source": [
    "# Analysis \n",
    "Further work: see only the best performing models and see if these have effects. (Top N of each)"
   ]
  },
  {
   "cell_type": "code",
   "execution_count": 2,
   "id": "49d1f2f9",
   "metadata": {
    "scrolled": true
   },
   "outputs": [
    {
     "data": {
      "text/html": [
       "<div>\n",
       "<style scoped>\n",
       "    .dataframe tbody tr th:only-of-type {\n",
       "        vertical-align: middle;\n",
       "    }\n",
       "\n",
       "    .dataframe tbody tr th {\n",
       "        vertical-align: top;\n",
       "    }\n",
       "\n",
       "    .dataframe thead th {\n",
       "        text-align: right;\n",
       "    }\n",
       "</style>\n",
       "<table border=\"1\" class=\"dataframe\">\n",
       "  <thead>\n",
       "    <tr style=\"text-align: right;\">\n",
       "      <th></th>\n",
       "      <th>Recon Loss</th>\n",
       "      <th>Learning Rate</th>\n",
       "      <th>DetEval</th>\n",
       "      <th>batch size</th>\n",
       "      <th>hidden size</th>\n",
       "      <th>latent size</th>\n",
       "      <th>fixed variance</th>\n",
       "      <th>dropout rate</th>\n",
       "      <th>L2 weight</th>\n",
       "      <th>noise layer std</th>\n",
       "      <th>optimizer</th>\n",
       "      <th>nonlinearity</th>\n",
       "      <th>residual user info</th>\n",
       "      <th>RMSE</th>\n",
       "    </tr>\n",
       "  </thead>\n",
       "  <tbody>\n",
       "    <tr>\n",
       "      <th>0</th>\n",
       "      <td>MSE</td>\n",
       "      <td>0.00005</td>\n",
       "      <td>False</td>\n",
       "      <td>128.0</td>\n",
       "      <td>4096.0</td>\n",
       "      <td>512.0</td>\n",
       "      <td>0.0</td>\n",
       "      <td>0.5</td>\n",
       "      <td>0.00001</td>\n",
       "      <td>0.1</td>\n",
       "      <td>Adam</td>\n",
       "      <td>LeakyRelu</td>\n",
       "      <td>True</td>\n",
       "      <td>1.217142</td>\n",
       "    </tr>\n",
       "    <tr>\n",
       "      <th>1</th>\n",
       "      <td>MSE</td>\n",
       "      <td>0.00001</td>\n",
       "      <td>False</td>\n",
       "      <td>32.0</td>\n",
       "      <td>4096.0</td>\n",
       "      <td>1024.0</td>\n",
       "      <td>0.3</td>\n",
       "      <td>0.0</td>\n",
       "      <td>0.00000</td>\n",
       "      <td>0.5</td>\n",
       "      <td>RMSProp</td>\n",
       "      <td>Tanh</td>\n",
       "      <td>True</td>\n",
       "      <td>0.969229</td>\n",
       "    </tr>\n",
       "    <tr>\n",
       "      <th>2</th>\n",
       "      <td>MSE</td>\n",
       "      <td>0.00005</td>\n",
       "      <td>True</td>\n",
       "      <td>32.0</td>\n",
       "      <td>2048.0</td>\n",
       "      <td>2048.0</td>\n",
       "      <td>0.5</td>\n",
       "      <td>0.1</td>\n",
       "      <td>0.00000</td>\n",
       "      <td>0.1</td>\n",
       "      <td>Adam</td>\n",
       "      <td>Tanh</td>\n",
       "      <td>True</td>\n",
       "      <td>0.793748</td>\n",
       "    </tr>\n",
       "    <tr>\n",
       "      <th>3</th>\n",
       "      <td>Likelihood</td>\n",
       "      <td>0.00005</td>\n",
       "      <td>True</td>\n",
       "      <td>64.0</td>\n",
       "      <td>1024.0</td>\n",
       "      <td>512.0</td>\n",
       "      <td>0.1</td>\n",
       "      <td>0.3</td>\n",
       "      <td>0.00000</td>\n",
       "      <td>0.0</td>\n",
       "      <td>Adagrad</td>\n",
       "      <td>Relu</td>\n",
       "      <td>True</td>\n",
       "      <td>1.728256</td>\n",
       "    </tr>\n",
       "    <tr>\n",
       "      <th>4</th>\n",
       "      <td>MSE</td>\n",
       "      <td>0.00010</td>\n",
       "      <td>True</td>\n",
       "      <td>64.0</td>\n",
       "      <td>2048.0</td>\n",
       "      <td>512.0</td>\n",
       "      <td>0.5</td>\n",
       "      <td>0.3</td>\n",
       "      <td>0.00010</td>\n",
       "      <td>0.1</td>\n",
       "      <td>Adam</td>\n",
       "      <td>Relu</td>\n",
       "      <td>True</td>\n",
       "      <td>1.214385</td>\n",
       "    </tr>\n",
       "    <tr>\n",
       "      <th>...</th>\n",
       "      <td>...</td>\n",
       "      <td>...</td>\n",
       "      <td>...</td>\n",
       "      <td>...</td>\n",
       "      <td>...</td>\n",
       "      <td>...</td>\n",
       "      <td>...</td>\n",
       "      <td>...</td>\n",
       "      <td>...</td>\n",
       "      <td>...</td>\n",
       "      <td>...</td>\n",
       "      <td>...</td>\n",
       "      <td>...</td>\n",
       "      <td>...</td>\n",
       "    </tr>\n",
       "    <tr>\n",
       "      <th>0</th>\n",
       "      <td>Likelihood</td>\n",
       "      <td>0.00005</td>\n",
       "      <td>True</td>\n",
       "      <td>32.0</td>\n",
       "      <td>2048.0</td>\n",
       "      <td>2048.0</td>\n",
       "      <td>0.3</td>\n",
       "      <td>0.5</td>\n",
       "      <td>0.00010</td>\n",
       "      <td>0.3</td>\n",
       "      <td>Adam</td>\n",
       "      <td>Tanh</td>\n",
       "      <td>True</td>\n",
       "      <td>0.995720</td>\n",
       "    </tr>\n",
       "    <tr>\n",
       "      <th>0</th>\n",
       "      <td>MSE</td>\n",
       "      <td>0.00010</td>\n",
       "      <td>False</td>\n",
       "      <td>64.0</td>\n",
       "      <td>4096.0</td>\n",
       "      <td>2048.0</td>\n",
       "      <td>0.0</td>\n",
       "      <td>0.3</td>\n",
       "      <td>0.00100</td>\n",
       "      <td>0.3</td>\n",
       "      <td>Adam</td>\n",
       "      <td>Tanh</td>\n",
       "      <td>True</td>\n",
       "      <td>0.851886</td>\n",
       "    </tr>\n",
       "    <tr>\n",
       "      <th>0</th>\n",
       "      <td>MSE</td>\n",
       "      <td>0.00005</td>\n",
       "      <td>True</td>\n",
       "      <td>64.0</td>\n",
       "      <td>2048.0</td>\n",
       "      <td>512.0</td>\n",
       "      <td>0.3</td>\n",
       "      <td>0.3</td>\n",
       "      <td>0.00010</td>\n",
       "      <td>0.5</td>\n",
       "      <td>Adam</td>\n",
       "      <td>Sigmoid</td>\n",
       "      <td>False</td>\n",
       "      <td>1.235472</td>\n",
       "    </tr>\n",
       "    <tr>\n",
       "      <th>0</th>\n",
       "      <td>Likelihood</td>\n",
       "      <td>0.00005</td>\n",
       "      <td>False</td>\n",
       "      <td>128.0</td>\n",
       "      <td>4096.0</td>\n",
       "      <td>512.0</td>\n",
       "      <td>0.5</td>\n",
       "      <td>0.1</td>\n",
       "      <td>0.00000</td>\n",
       "      <td>0.1</td>\n",
       "      <td>Adagrad</td>\n",
       "      <td>Relu</td>\n",
       "      <td>True</td>\n",
       "      <td>1.410216</td>\n",
       "    </tr>\n",
       "    <tr>\n",
       "      <th>0</th>\n",
       "      <td>Likelihood</td>\n",
       "      <td>0.00010</td>\n",
       "      <td>True</td>\n",
       "      <td>64.0</td>\n",
       "      <td>4096.0</td>\n",
       "      <td>512.0</td>\n",
       "      <td>0.3</td>\n",
       "      <td>0.0</td>\n",
       "      <td>0.00000</td>\n",
       "      <td>0.5</td>\n",
       "      <td>Adagrad</td>\n",
       "      <td>Tanh</td>\n",
       "      <td>False</td>\n",
       "      <td>1.237291</td>\n",
       "    </tr>\n",
       "  </tbody>\n",
       "</table>\n",
       "<p>546 rows × 14 columns</p>\n",
       "</div>"
      ],
      "text/plain": [
       "    Recon Loss  Learning Rate  DetEval  batch size  hidden size  latent size  \\\n",
       "0          MSE        0.00005    False       128.0       4096.0        512.0   \n",
       "1          MSE        0.00001    False        32.0       4096.0       1024.0   \n",
       "2          MSE        0.00005     True        32.0       2048.0       2048.0   \n",
       "3   Likelihood        0.00005     True        64.0       1024.0        512.0   \n",
       "4          MSE        0.00010     True        64.0       2048.0        512.0   \n",
       "..         ...            ...      ...         ...          ...          ...   \n",
       "0   Likelihood        0.00005     True        32.0       2048.0       2048.0   \n",
       "0          MSE        0.00010    False        64.0       4096.0       2048.0   \n",
       "0          MSE        0.00005     True        64.0       2048.0        512.0   \n",
       "0   Likelihood        0.00005    False       128.0       4096.0        512.0   \n",
       "0   Likelihood        0.00010     True        64.0       4096.0        512.0   \n",
       "\n",
       "    fixed variance  dropout rate  L2 weight noise layer std optimizer  \\\n",
       "0              0.0           0.5    0.00001             0.1      Adam   \n",
       "1              0.3           0.0    0.00000             0.5   RMSProp   \n",
       "2              0.5           0.1    0.00000             0.1      Adam   \n",
       "3              0.1           0.3    0.00000             0.0   Adagrad   \n",
       "4              0.5           0.3    0.00010             0.1      Adam   \n",
       "..             ...           ...        ...             ...       ...   \n",
       "0              0.3           0.5    0.00010             0.3      Adam   \n",
       "0              0.0           0.3    0.00100             0.3      Adam   \n",
       "0              0.3           0.3    0.00010             0.5      Adam   \n",
       "0              0.5           0.1    0.00000             0.1   Adagrad   \n",
       "0              0.3           0.0    0.00000             0.5   Adagrad   \n",
       "\n",
       "   nonlinearity residual user info      RMSE  \n",
       "0     LeakyRelu               True  1.217142  \n",
       "1          Tanh               True  0.969229  \n",
       "2          Tanh               True  0.793748  \n",
       "3          Relu               True  1.728256  \n",
       "4          Relu               True  1.214385  \n",
       "..          ...                ...       ...  \n",
       "0          Tanh               True  0.995720  \n",
       "0          Tanh               True  0.851886  \n",
       "0       Sigmoid              False  1.235472  \n",
       "0          Relu               True  1.410216  \n",
       "0          Tanh              False  1.237291  \n",
       "\n",
       "[546 rows x 14 columns]"
      ]
     },
     "execution_count": 2,
     "metadata": {},
     "output_type": "execute_result"
    }
   ],
   "source": [
    "import pandas as pd\n",
    "import matplotlib.pyplot as plt\n",
    "results = pd.read_csv(\"./data/model_results.csv\", index_col = 0)\n",
    "results"
   ]
  },
  {
   "cell_type": "markdown",
   "id": "3335e35f",
   "metadata": {},
   "source": [
    "# Question 1: Does deterministic evaluation help?\n",
    "\n",
    "The data suggests that it has a negligible effect on the outcome of the model. "
   ]
  },
  {
   "cell_type": "code",
   "execution_count": 12,
   "id": "e0823217",
   "metadata": {},
   "outputs": [
    {
     "data": {
      "text/plain": [
       "<matplotlib.legend.Legend at 0x1aab0907a00>"
      ]
     },
     "execution_count": 12,
     "metadata": {},
     "output_type": "execute_result"
    },
    {
     "data": {
      "image/png": "[encoded data removed]",
      "text/plain": [
       "<Figure size 640x480 with 1 Axes>"
      ]
     },
     "metadata": {},
     "output_type": "display_data"
    }
   ],
   "source": [
    "detEval = results[results.DetEval == True].RMSE.sort_values().head(40)\n",
    "noDetEval = results[results.DetEval == False].RMSE.sort_values().head(40)\n",
    "plt.hist(detEval)\n",
    "plt.hist(noDetEval)\n",
    "plt.legend(['detEval', 'noDetEval'])"
   ]
  },
  {
   "cell_type": "code",
   "execution_count": 4,
   "id": "792ba12c",
   "metadata": {},
   "outputs": [
    {
     "name": "stdout",
     "output_type": "stream",
     "text": [
      "The mean of detEval = 0.8834948201974233\n",
      "The mean of noDetEval = 0.8619873821735382\n",
      "The median of detEval = 0.8945890665054321\n",
      "The median of noDetEval = 0.8975099325180054\n",
      "The std of detEval = 0.11427558185813792\n",
      "The std of noDetEval = 0.13645972223721575\n"
     ]
    }
   ],
   "source": [
    "print(\"The mean of detEval = \" + str(detEval.mean()))\n",
    "print(\"The mean of noDetEval = \" + str(noDetEval.mean()))\n",
    "print(\"The median of detEval = \" + str(detEval.median()))\n",
    "print(\"The median of noDetEval = \" + str(noDetEval.median()))\n",
    "print(\"The std of detEval = \" + str(detEval.std()))\n",
    "print(\"The std of noDetEval = \" + str(noDetEval.std()))\n"
   ]
  },
  {
   "cell_type": "markdown",
   "id": "8cd8fb0f",
   "metadata": {},
   "source": [
    "# Question 2: Does Fixed variance help?\n",
    "It appears that Fixed Variance had a negligible effect as well. However, this could also be taken as: the extra hyperparameters are not worth it and better spent elsewhere. \n",
    "\n",
    "Check each value of fixed var and see if any stand out"
   ]
  },
  {
   "cell_type": "code",
   "execution_count": 13,
   "id": "aad6b8ce",
   "metadata": {},
   "outputs": [
    {
     "data": {
      "text/plain": [
       "[0.5, 2.0, 0.5, 2.0, 0.5, 2.0, 0.5, 2.0]"
      ]
     },
     "execution_count": 13,
     "metadata": {},
     "output_type": "execute_result"
    },
    {
     "data": {
      "image/png": "[encoded data removed]",
      "text/plain": [
       "<Figure size 640x1500 with 4 Axes>"
      ]
     },
     "metadata": {},
     "output_type": "display_data"
    }
   ],
   "source": [
    "noFixedVar = results[results[\"fixed variance\"] == 0.0].RMSE.sort_values().head(40)\n",
    "fixedVar1 = results[results[\"fixed variance\"] == 0.1].RMSE.sort_values().head(40)\n",
    "fixedVar3 = results[results[\"fixed variance\"] == 0.3].RMSE.sort_values().head(40)\n",
    "fixedVar5 = results[results[\"fixed variance\"] == 0.5].RMSE.sort_values().head(40)\n",
    "fig, ax = plt.subplots(4)\n",
    "fig.set_figheight(15)\n",
    "\n",
    "ax[0].hist(noFixedVar, density=True)\n",
    "ax[0].title.set_text(\"No fixed Var\")\n",
    "ax[1].hist(fixedVar1, density =True)\n",
    "ax[1].title.set_text(\"Fixed Var: 0.1\")\n",
    "ax[2].hist(fixedVar3, density =True)\n",
    "ax[2].title.set_text(\"Fixed Var: 0.3\")\n",
    "ax[3].hist(fixedVar5, density =True)\n",
    "ax[3].title.set_text(\"Fixed Var: 0.5\")\n",
    "plt.setp(ax, xlim=[0.5, 2.0])"
   ]
  },
  {
   "cell_type": "code",
   "execution_count": 14,
   "id": "62346b1d",
   "metadata": {},
   "outputs": [
    {
     "name": "stdout",
     "output_type": "stream",
     "text": [
      "The mean of noFixedVar = 1.0028623521327973\n",
      "The mean of fixedVar1 = 1.0792005047202111\n",
      "The mean of fixedVar3 = 0.9945562303066253\n",
      "The mean of fixedVar5 = 1.075222374498844\n",
      "\n",
      "The median of noFixedVar = 1.074707269668579\n",
      "The median of fixedVar1 = 1.1512169241905212\n",
      "The median of fixedVar3 = 1.0455787181854248\n",
      "The median of fixedVar5 = 1.135664939880371\n",
      "\n",
      "The std of noFixedVar = 0.17387639791905427\n",
      "The std of fixedVar1 = 0.1360142339120053\n",
      "The std of fixedVar3 = 0.14930879963035038\n",
      "The std of fixedVar5 = 0.13033474258032815\n"
     ]
    }
   ],
   "source": [
    "print(\"The mean of noFixedVar = \" + str(noFixedVar.mean()))\n",
    "print(\"The mean of fixedVar1 = \" + str(fixedVar1.mean()))\n",
    "print(\"The mean of fixedVar3 = \" + str(fixedVar3.mean()))\n",
    "print(\"The mean of fixedVar5 = \" + str(fixedVar5.mean()))\n",
    "print(\"\")\n",
    "print(\"The median of noFixedVar = \" + str(noFixedVar.median()))\n",
    "print(\"The median of fixedVar1 = \" + str(fixedVar1.median()))\n",
    "print(\"The median of fixedVar3 = \" + str(fixedVar3.median()))\n",
    "print(\"The median of fixedVar5 = \" + str(fixedVar5.median()))\n",
    "print(\"\")\n",
    "print(\"The std of noFixedVar = \" + str(noFixedVar.std()))\n",
    "print(\"The std of fixedVar1 = \" + str(fixedVar1.std()))\n",
    "print(\"The std of fixedVar3 = \" + str(fixedVar3.std()))\n",
    "print(\"The std of fixedVar5 = \" + str(fixedVar5.std()))"
   ]
  },
  {
   "cell_type": "markdown",
   "id": "10feacbc",
   "metadata": {},
   "source": [
    "# Question 3: Noise Layers\n",
    "\n",
    "At binary level does not appear to be significant although the best performing models appear to not have noise\n",
    "\n",
    "Do the same type of breakdown as fixed variance where you show for each value"
   ]
  },
  {
   "cell_type": "code",
   "execution_count": 16,
   "id": "99de28c1",
   "metadata": {},
   "outputs": [
    {
     "data": {
      "text/plain": [
       "[0.5, 2.0, 0.5, 2.0, 0.5, 2.0, 0.5, 2.0]"
      ]
     },
     "execution_count": 16,
     "metadata": {},
     "output_type": "execute_result"
    },
    {
     "data": {
      "image/png": "[encoded data removed]",
      "text/plain": [
       "<Figure size 640x1500 with 4 Axes>"
      ]
     },
     "metadata": {},
     "output_type": "display_data"
    }
   ],
   "source": [
    "noNoise = results[results[\"noise layer std\"] == \"0.0\"].RMSE.sort_values().head(40)\n",
    "wNoise1 = results[results[\"noise layer std\"] == \"0.1\"].RMSE.sort_values().head(40)\n",
    "wNoise3 = results[results[\"noise layer std\"] == \"0.3\"].RMSE.sort_values().head(40)\n",
    "wNoise5 = results[results[\"noise layer std\"] == \"0.5\"].RMSE.sort_values().head(40)\n",
    "\n",
    "\n",
    "\n",
    "fig, ax = plt.subplots(4)\n",
    "fig.set_figheight(15)\n",
    "\n",
    "ax[0].hist(noNoise, density=True)\n",
    "ax[0].title.set_text(\"No Noise\")\n",
    "ax[1].hist(wNoise1, density = True)\n",
    "ax[1].title.set_text(\"Noise Std: 0.1\")\n",
    "ax[2].hist(wNoise3, density =True)\n",
    "ax[2].title.set_text(\"Noise Std: 0.3\")\n",
    "ax[3].hist(wNoise5, density =True)\n",
    "ax[3].title.set_text(\"Noise Std: 0.5\")\n",
    "plt.setp(ax, xlim=[0.5, 2.0])\n"
   ]
  },
  {
   "cell_type": "code",
   "execution_count": 18,
   "id": "4c305ad3",
   "metadata": {},
   "outputs": [
    {
     "name": "stdout",
     "output_type": "stream",
     "text": [
      "The mean of noNoise = 0.986991149187088\n",
      "The mean of wNoise1 = 0.9740973234176635\n",
      "The mean of wNoise3 = 1.0936575546860694\n",
      "The mean of wNoise5 = 1.0966248705983161\n",
      "\n",
      "The median of noNoise = 1.0835696458816528\n",
      "The median of wNoise1 = 0.9770137667655946\n",
      "The median of wNoise3 = 1.143121063709259\n",
      "The median of wNoise5 = 1.147760808467865\n",
      "\n",
      "The std of noNoise = 0.19188207385743766\n",
      "The std of wNoise1 = 0.14830577809824746\n",
      "The std of wNoise3 = 0.11467631931315989\n",
      "The std of wNoise5 = 0.09359307508505559\n"
     ]
    }
   ],
   "source": [
    "print(\"The mean of noNoise = \" + str(noNoise.mean()))\n",
    "print(\"The mean of wNoise1 = \" + str(wNoise1.mean()))\n",
    "print(\"The mean of wNoise3 = \" + str(wNoise3.mean()))\n",
    "print(\"The mean of wNoise5 = \" + str(wNoise5.mean()))\n",
    "print(\"\")\n",
    "print(\"The median of noNoise = \" + str(noNoise.median()))\n",
    "print(\"The median of wNoise1 = \" + str(wNoise1.median()))\n",
    "print(\"The median of wNoise3 = \" + str(wNoise3.median()))\n",
    "print(\"The median of wNoise5 = \" + str(wNoise5.median()))\n",
    "print(\"\")\n",
    "print(\"The std of noNoise = \" + str(noNoise.std()))\n",
    "print(\"The std of wNoise1 = \" + str(wNoise1.std()))\n",
    "print(\"The std of wNoise3 = \" + str(wNoise3.std()))\n",
    "print(\"The std of wNoise5 = \" + str(wNoise5.std()))"
   ]
  },
  {
   "cell_type": "markdown",
   "id": "42405058",
   "metadata": {},
   "source": [
    "# Question 4: Residual layer of user information\n",
    "\n",
    "At first glance there is also nothing of statistical significance\n"
   ]
  },
  {
   "cell_type": "code",
   "execution_count": 43,
   "id": "db0214b3",
   "metadata": {},
   "outputs": [
    {
     "data": {
      "text/plain": [
       "<matplotlib.legend.Legend at 0x1d1265d7af0>"
      ]
     },
     "execution_count": 43,
     "metadata": {},
     "output_type": "execute_result"
    },
    {
     "data": {
      "image/png": "[encoded data removed]",
      "text/plain": [
       "<Figure size 640x480 with 1 Axes>"
      ]
     },
     "metadata": {},
     "output_type": "display_data"
    }
   ],
   "source": [
    "res = results[results[\"residual user info\"] == \"True\"].RMSE\n",
    "noRes = results[results[\"residual user info\"] == \"False\"].RMSE\n",
    "plt.hist(res, density = True)\n",
    "plt.hist(noRes, density = True)\n",
    "plt.legend(['res', 'noRes'])"
   ]
  },
  {
   "cell_type": "code",
   "execution_count": 52,
   "id": "95eba258",
   "metadata": {},
   "outputs": [
    {
     "name": "stdout",
     "output_type": "stream",
     "text": [
      "The mean of res = 1.2254520019445452\n",
      "The mean of noRes = 1.2211431004106998\n",
      "The median of res = 1.197480320930481\n",
      "The median of noRes = 1.2353034019470215\n",
      "The std of res = 0.21178267144168972\n",
      "The std of noRes = 0.15434334454278095\n"
     ]
    }
   ],
   "source": [
    "print(\"The mean of res = \" + str(res.mean()))\n",
    "print(\"The mean of noRes = \" + str(noRes.mean()))\n",
    "print(\"The median of res = \" + str(res.median()))\n",
    "print(\"The median of noRes = \" + str(noRes.median()))\n",
    "print(\"The std of res = \" + str(res.std()))\n",
    "print(\"The std of noRes = \" + str(noRes.std()))"
   ]
  },
  {
   "cell_type": "markdown",
   "id": "8a42b7c4",
   "metadata": {},
   "source": [
    "# Question 5: Loss Function"
   ]
  },
  {
   "cell_type": "code",
   "execution_count": 53,
   "id": "78ea1d0b",
   "metadata": {},
   "outputs": [
    {
     "data": {
      "text/plain": [
       "<matplotlib.legend.Legend at 0x1d1279970d0>"
      ]
     },
     "execution_count": 53,
     "metadata": {},
     "output_type": "execute_result"
    },
    {
     "data": {
      "image/png": "[encoded data removed]",
      "text/plain": [
       "<Figure size 640x480 with 1 Axes>"
      ]
     },
     "metadata": {},
     "output_type": "display_data"
    }
   ],
   "source": [
    "mse = results[results[\"Recon Loss\"] == \"MSE\"].RMSE\n",
    "likelihood = results[results[\"Recon Loss\"] == \"Likelihood\"].RMSE\n",
    "plt.hist(mse, density = True)\n",
    "plt.hist(likelihood, density = True)\n",
    "plt.legend(['mse', 'likelihood'])"
   ]
  },
  {
   "cell_type": "code",
   "execution_count": 54,
   "id": "747d4e06",
   "metadata": {},
   "outputs": [
    {
     "name": "stdout",
     "output_type": "stream",
     "text": [
      "The mean of mse = 1.1887083559986051\n",
      "The mean of likelihood = 1.2519052733977636\n",
      "The median of mse = 1.1968330144882202\n",
      "The median of likelihood = 1.2358994483947754\n",
      "The std of mse = 0.19720978476586093\n",
      "The std of likelihood = 0.17278124392906438\n"
     ]
    }
   ],
   "source": [
    "print(\"The mean of mse = \" + str(mse.mean()))\n",
    "print(\"The mean of likelihood = \" + str(likelihood.mean()))\n",
    "print(\"The median of mse = \" + str(mse.median()))\n",
    "print(\"The median of likelihood = \" + str(likelihood.median()))\n",
    "print(\"The std of mse = \" + str(mse.std()))\n",
    "print(\"The std of likelihood = \" + str(likelihood.std()))"
   ]
  },
  {
   "cell_type": "code",
   "execution_count": null,
   "id": "60632e20",
   "metadata": {},
   "outputs": [],
   "source": []
  }
 ],
 "metadata": {
  "kernelspec": {
   "display_name": "Python 3 (ipykernel)",
   "language": "python",
   "name": "python3"
  },
  "language_info": {
   "codemirror_mode": {
    "name": "ipython",
    "version": 3
   },
   "file_extension": ".py",
   "mimetype": "text/x-python",
   "name": "python",
   "nbconvert_exporter": "python",
   "pygments_lexer": "ipython3",
   "version": "3.9.7"
  }
 },
 "nbformat": 4,
 "nbformat_minor": 5
}
