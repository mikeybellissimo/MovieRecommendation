{
 "cells": [
  {
   "cell_type": "markdown",
   "id": "73bd58f7",
   "metadata": {},
   "source": [
    "# User Info Matrix Preprocessing\n",
    "\n",
    "To input the data concerning the user data as well as the genre information of the movies the user likes, I will build a matrix as follows:\n",
    "First row is the gender: 0 for male, 1 for female\n",
    "Second row is the age: Normalized\n",
    "Remaining rows are the different genres. The value of each cell is equal to the average rating of that genre by that user, excluding 0 values from consideration. "
   ]
  },
  {
   "cell_type": "code",
   "execution_count": 6,
   "id": "f9ed0346",
   "metadata": {},
   "outputs": [
    {
     "name": "stderr",
     "output_type": "stream",
     "text": [
      "C:\\Users\\leuch\\AppData\\Local\\Temp\\ipykernel_17256\\2626815215.py:6: ParserWarning: Falling back to the 'python' engine because the 'c' engine does not support sep=None with delim_whitespace=False; you can avoid this warning by specifying engine='python'.\n",
      "  raw_data = pd.read_csv(\"./data/Movielens100/u.data\", sep = None, names=[\"userId\", \"movieId\", \"rating\", \"timestamp\"])\n"
     ]
    },
    {
     "data": {
      "text/plain": [
       "array([[2., 0., 1., ..., 0., 0., 0.],\n",
       "       [1., 0., 0., ..., 0., 0., 0.],\n",
       "       [0., 0., 0., ..., 0., 0., 0.],\n",
       "       ...,\n",
       "       [2., 0., 0., ..., 0., 0., 0.],\n",
       "       [0., 0., 0., ..., 0., 0., 0.],\n",
       "       [0., 2., 0., ..., 0., 0., 0.]])"
      ]
     },
     "execution_count": 6,
     "metadata": {},
     "output_type": "execute_result"
    }
   ],
   "source": [
    "import pandas as pd\n",
    "import numpy as np\n",
    "import os\n",
    "os.environ['KMP_DUPLICATE_LIB_OK']='True'\n",
    "\n",
    "raw_data = pd.read_csv(\"./data/Movielens100/u.data\", sep = None, names=[\"userId\", \"movieId\", \"rating\", \"timestamp\"])\n",
    "raw_data = raw_data.loc[:, raw_data.columns != \"timestamp\"]\n",
    "#make indices start at 0\n",
    "raw_data[\"userId\"] -= 1\n",
    "raw_data[\"movieId\"] -= 1\n",
    "#make ratings center around 0\n",
    "raw_data[\"rating\"] -= 3\n",
    "\n",
    "# create (943, 1682) matrix of user ratings per movie\n",
    "user_ratings = pd.DataFrame(np.zeros((943,1682)))\n",
    "for i in raw_data.index:\n",
    "    user_ratings[raw_data[\"movieId\"][i]][raw_data[\"userId\"][i]] = raw_data[\"rating\"][i]\n",
    "user_ratings = user_ratings.to_numpy() \n",
    "user_ratings"
   ]
  },
  {
   "cell_type": "markdown",
   "id": "8c3217db",
   "metadata": {},
   "source": [
    "## User Taste matrix\n",
    "\n",
    "The first step is to get the average rating per genre of each user and then normalize that."
   ]
  },
  {
   "cell_type": "code",
   "execution_count": 7,
   "id": "1b4663a1",
   "metadata": {
    "scrolled": true
   },
   "outputs": [
    {
     "data": {
      "text/plain": [
       "array([[0, 0, 0, ..., 0, 0, 0],\n",
       "       [0, 1, 1, ..., 1, 0, 0],\n",
       "       [0, 0, 0, ..., 1, 0, 0],\n",
       "       ...,\n",
       "       [0, 0, 0, ..., 0, 0, 0],\n",
       "       [0, 0, 0, ..., 0, 0, 0],\n",
       "       [0, 0, 0, ..., 0, 0, 0]], dtype=int64)"
      ]
     },
     "execution_count": 7,
     "metadata": {},
     "output_type": "execute_result"
    }
   ],
   "source": [
    "movie_genres = pd.read_csv(\"./data/Movielens100/u.item\", sep = \"|\", encoding='latin-1', names= [\"movie id\" , \"movie title\", \"release date\", \"video release date\",\n",
    "                                                                                        \"imdb_url\", \"unknown\", \"Action\", \"Adventure\", \"Animation\", \"Childrens\", \"Comedy\", \"Crime\",\n",
    "                                                                                        \"Documentary\", \"Drama\", \"Fantasy\", \"Film-Noir\", \"Horror\", \"Musical\", \"Mystery\", \"Romance\", \"Sci-Fi\", \"Thriller\", \n",
    "                                                                                        \"War\", \"Western\"])\n",
    "movie_genres[\"movie id\"] = movie_genres[\"movie id\"] - 1\n",
    "movie_genres = movie_genres.drop([\"movie id\", \"movie title\", \"release date\", \"video release date\", \"imdb_url\"], axis=1)\n",
    "movie_genres = movie_genres.to_numpy()\n",
    "movie_genres"
   ]
  },
  {
   "cell_type": "code",
   "execution_count": 94,
   "id": "f6e306f0",
   "metadata": {},
   "outputs": [
    {
     "data": {
      "text/plain": [
       "array([[-0.5285767 ,  0.16328159, -0.64388641, ...,  0.36507359,\n",
       "        -0.06733784, -0.44209441],\n",
       "       [-0.55740413,  0.54956914, -0.0039175 , ...,  0.41119748,\n",
       "        -0.28066081, -0.55740413],\n",
       "       [-0.55740413, -1.03638294, -0.23808492, ..., -2.15400018,\n",
       "        -0.71706373, -0.55740413],\n",
       "       ...,\n",
       "       [-0.55740413,  1.93328572,  1.31061326, ...,  1.62194949,\n",
       "         0.06526833, -0.55740413],\n",
       "       [-0.55740413,  1.30131964,  1.20838345, ...,  1.30131964,\n",
       "         1.02251107, -0.09272319],\n",
       "       [-0.55740413,  0.99927702, -0.15711469, ...,  0.7324174 ,\n",
       "        -0.20159129, -0.73531055]])"
      ]
     },
     "execution_count": 94,
     "metadata": {},
     "output_type": "execute_result"
    }
   ],
   "source": [
    "user_tastes = np.zeros((len(user_ratings), len(movie_genres[0])))\n",
    "for u in range(len(user_ratings)):\n",
    "    num_ratings = len(user_ratings[u].nonzero()[0])\n",
    "    user_tastes[u] = np.dot(movie_genres.T, user_ratings[u]) / num_ratings\n",
    "user_tastes -= user_tastes.mean()\n",
    "user_tastes /= user_tastes.std()\n",
    "user_tastes"
   ]
  },
  {
   "cell_type": "markdown",
   "id": "efe61175",
   "metadata": {},
   "source": [
    "## User information matrix \n",
    "Concatenate user taste matrix with age and gender, forming the user information matrix\n",
    "\n",
    "First column is normalized age, second column is gender, the rest are the average ratings per genre. Genres are listed in u.genre file\n"
   ]
  },
  {
   "cell_type": "code",
   "execution_count": 88,
   "id": "1498264c",
   "metadata": {},
   "outputs": [
    {
     "data": {
      "text/plain": [
       "array([[-0.82442191,  1.        ],\n",
       "       [ 1.5540427 ,  0.        ],\n",
       "       [-0.90643793,  1.        ],\n",
       "       ...,\n",
       "       [-1.152486  ,  1.        ],\n",
       "       [ 1.14396259,  0.        ],\n",
       "       [-0.98845396,  1.        ]])"
      ]
     },
     "execution_count": 88,
     "metadata": {},
     "output_type": "execute_result"
    }
   ],
   "source": [
    "user_data = pd.read_csv(\"./data/Movielens100/u.user\", sep = \"|\", encoding='latin-1', names= [\"user id\", \"age\" , \"gender\" , \"occupation\", \"zip code\"])\n",
    "user_data = user_data.drop([\"user id\", \"occupation\", \"zip code\"], axis=1)\n",
    "user_data[\"gender\"] = (user_data[\"gender\"] == \"M\").astype(np.float32)\n",
    "user_data[\"age\"] -= user_data[\"age\"].mean()\n",
    "user_data[\"age\"] /= user_data[\"age\"].std()\n",
    "user_data = user_data.to_numpy()"
   ]
  },
  {
   "cell_type": "code",
   "execution_count": 100,
   "id": "46d34c76",
   "metadata": {},
   "outputs": [],
   "source": [
    "user_info = np.concatenate((user_data, user_tastes), axis = 1)\n",
    "pd.DataFrame(user_info).to_csv(\"./data/user_info.csv\")"
   ]
  },
  {
   "cell_type": "code",
   "execution_count": 4,
   "id": "28c759d9",
   "metadata": {},
   "outputs": [
    {
     "data": {
      "text/plain": [
       "12.192739733059044"
      ]
     },
     "execution_count": 4,
     "metadata": {},
     "output_type": "execute_result"
    }
   ],
   "source": [
    "user_data = pd.read_csv(\"./data/Movielens100/u.user\", sep = \"|\", encoding='latin-1', names= [\"user id\", \"age\" , \"gender\" , \"occupation\", \"zip code\"])\n",
    "user_data = user_data.drop([\"user id\", \"occupation\", \"zip code\"], axis=1)\n",
    "user_data[\"age\"].std()\n",
    "#user_data[\"gender\"] = (user_data[\"gender\"] == \"M\").astype(np.float32)\n",
    "#user_data[\"age\"] -= user_data[\"age\"].mean()\n",
    "#user_data[\"age\"] /= user_data[\"age\"].std()\n",
    "#user_data = user_data.to_numpy()"
   ]
  },
  {
   "cell_type": "code",
   "execution_count": null,
   "id": "a1cfb437",
   "metadata": {},
   "outputs": [],
   "source": []
  }
 ],
 "metadata": {
  "kernelspec": {
   "display_name": "Python 3 (ipykernel)",
   "language": "python",
   "name": "python3"
  },
  "language_info": {
   "codemirror_mode": {
    "name": "ipython",
    "version": 3
   },
   "file_extension": ".py",
   "mimetype": "text/x-python",
   "name": "python",
   "nbconvert_exporter": "python",
   "pygments_lexer": "ipython3",
   "version": "3.9.7"
  }
 },
 "nbformat": 4,
 "nbformat_minor": 5
}
